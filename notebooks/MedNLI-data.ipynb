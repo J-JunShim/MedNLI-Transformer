{
 "cells": [
  {
   "cell_type": "code",
   "execution_count": 2,
   "id": "f7579de3-9254-4207-a067-36b3c6173d3b",
   "metadata": {},
   "outputs": [],
   "source": [
    "import json\n",
    "import pandas as pd"
   ]
  },
  {
   "cell_type": "code",
   "execution_count": 7,
   "id": "7e55d826-f662-4687-a82a-7b8daf608a2d",
   "metadata": {},
   "outputs": [
    {
     "name": "stdout",
     "output_type": "stream",
     "text": [
      "<class 'pandas.core.frame.DataFrame'>\n",
      "RangeIndex: 1395 entries, 0 to 1394\n",
      "Data columns (total 8 columns):\n",
      " #   Column                  Non-Null Count  Dtype \n",
      "---  ------                  --------------  ----- \n",
      " 0   sentence1               1395 non-null   object\n",
      " 1   pairID                  1395 non-null   object\n",
      " 2   sentence1_parse         1395 non-null   object\n",
      " 3   sentence1_binary_parse  1395 non-null   object\n",
      " 4   sentence2               1395 non-null   object\n",
      " 5   sentence2_parse         1395 non-null   object\n",
      " 6   sentence2_binary_parse  1395 non-null   object\n",
      " 7   gold_label              1395 non-null   object\n",
      "dtypes: object(8)\n",
      "memory usage: 87.3+ KB\n"
     ]
    }
   ],
   "source": [
    "PATH_DATA = '../data/mednli-a-natural-language-inference-dataset-for-the-clinical-domain-1.0.0/mli_dev_v1.jsonl'\n",
    "\n",
    "with open(PATH_DATA, 'r') as f:\n",
    "    dataJson = (json.loads(file) for file in f.readlines())\n",
    "    \n",
    "devDF = pd.DataFrame(dataJson)\n",
    "\n",
    "devDF.info()"
   ]
  },
  {
   "cell_type": "code",
   "execution_count": 8,
   "id": "e50ea3be-211c-4902-97c1-a5e9aa15dc65",
   "metadata": {},
   "outputs": [
    {
     "name": "stdout",
     "output_type": "stream",
     "text": [
      "<class 'pandas.core.frame.DataFrame'>\n",
      "RangeIndex: 11232 entries, 0 to 11231\n",
      "Data columns (total 8 columns):\n",
      " #   Column                  Non-Null Count  Dtype \n",
      "---  ------                  --------------  ----- \n",
      " 0   sentence1               11232 non-null  object\n",
      " 1   pairID                  11232 non-null  object\n",
      " 2   sentence1_parse         11232 non-null  object\n",
      " 3   sentence1_binary_parse  11232 non-null  object\n",
      " 4   sentence2               11232 non-null  object\n",
      " 5   sentence2_parse         11232 non-null  object\n",
      " 6   sentence2_binary_parse  11232 non-null  object\n",
      " 7   gold_label              11232 non-null  object\n",
      "dtypes: object(8)\n",
      "memory usage: 702.1+ KB\n"
     ]
    }
   ],
   "source": [
    "PATH_DATA = '../data/mednli-a-natural-language-inference-dataset-for-the-clinical-domain-1.0.0/mli_train_v1.jsonl'\n",
    "\n",
    "with open(PATH_DATA, 'r') as f:\n",
    "    dataJson = (json.loads(file) for file in f.readlines())\n",
    "    \n",
    "trainDF = pd.DataFrame(dataJson)\n",
    "\n",
    "trainDF.info()"
   ]
  },
  {
   "cell_type": "code",
   "execution_count": 9,
   "id": "ea3d11d1-afdc-402c-b914-1c1b27ca08cc",
   "metadata": {},
   "outputs": [
    {
     "name": "stdout",
     "output_type": "stream",
     "text": [
      "<class 'pandas.core.frame.DataFrame'>\n",
      "RangeIndex: 1422 entries, 0 to 1421\n",
      "Data columns (total 8 columns):\n",
      " #   Column                  Non-Null Count  Dtype \n",
      "---  ------                  --------------  ----- \n",
      " 0   sentence1               1422 non-null   object\n",
      " 1   pairID                  1422 non-null   object\n",
      " 2   sentence1_parse         1422 non-null   object\n",
      " 3   sentence1_binary_parse  1422 non-null   object\n",
      " 4   sentence2               1422 non-null   object\n",
      " 5   sentence2_parse         1422 non-null   object\n",
      " 6   sentence2_binary_parse  1422 non-null   object\n",
      " 7   gold_label              1422 non-null   object\n",
      "dtypes: object(8)\n",
      "memory usage: 89.0+ KB\n"
     ]
    }
   ],
   "source": [
    "PATH_DATA = '../data/mednli-a-natural-language-inference-dataset-for-the-clinical-domain-1.0.0/mli_test_v1.jsonl'\n",
    "\n",
    "with open(PATH_DATA, 'r') as f:\n",
    "    dataJson = (json.loads(file) for file in f.readlines())\n",
    "    \n",
    "testDF = pd.DataFrame(dataJson)\n",
    "\n",
    "testDF.info()"
   ]
  },
  {
   "cell_type": "code",
   "execution_count": 13,
   "id": "f7022b48-2977-4027-b30b-a1a86826f25c",
   "metadata": {},
   "outputs": [
    {
     "data": {
      "text/plain": [
       "entailment       3744\n",
       "contradiction    3744\n",
       "neutral          3744\n",
       "Name: gold_label, dtype: int64"
      ]
     },
     "execution_count": 13,
     "metadata": {},
     "output_type": "execute_result"
    }
   ],
   "source": [
    "trainDF['gold_label'].value_counts()"
   ]
  },
  {
   "cell_type": "code",
   "execution_count": 14,
   "id": "b02419cf-f3ba-4912-ae5e-68a2b6c29a19",
   "metadata": {},
   "outputs": [
    {
     "data": {
      "text/plain": [
       "entailment       474\n",
       "contradiction    474\n",
       "neutral          474\n",
       "Name: gold_label, dtype: int64"
      ]
     },
     "execution_count": 14,
     "metadata": {},
     "output_type": "execute_result"
    }
   ],
   "source": [
    "testDF['gold_label'].value_counts()"
   ]
  },
  {
   "cell_type": "code",
   "execution_count": 15,
   "id": "199ad69a-322b-4379-bbf6-eeaa8a3b3b61",
   "metadata": {},
   "outputs": [],
   "source": [
    "import datasets"
   ]
  },
  {
   "cell_type": "code",
   "execution_count": 18,
   "id": "cc1236b8-9ff1-4863-b9ac-b3c15848db2a",
   "metadata": {
    "tags": []
   },
   "outputs": [
    {
     "name": "stderr",
     "output_type": "stream",
     "text": [
      "Using custom data configuration mednli_source-data_dir=..%2Fdata%2F\n"
     ]
    },
    {
     "name": "stdout",
     "output_type": "stream",
     "text": [
      "Downloading and preparing dataset mednli/mednli_source to C:/Users/wowns/.cache/huggingface/datasets/bigbio___mednli/mednli_source-data_dir=..%2Fdata%2F/1.0.0/f18e31046c4bf68bbdc505fbf3dab924a4ea60082a7f41346e3a84b54f453535...\n"
     ]
    },
    {
     "data": {
      "application/vnd.jupyter.widget-view+json": {
       "model_id": "",
       "version_major": 2,
       "version_minor": 0
      },
      "text/plain": [
       "Generating train split: 0 examples [00:00, ? examples/s]"
      ]
     },
     "metadata": {},
     "output_type": "display_data"
    },
    {
     "data": {
      "application/vnd.jupyter.widget-view+json": {
       "model_id": "",
       "version_major": 2,
       "version_minor": 0
      },
      "text/plain": [
       "Generating test split: 0 examples [00:00, ? examples/s]"
      ]
     },
     "metadata": {},
     "output_type": "display_data"
    },
    {
     "data": {
      "application/vnd.jupyter.widget-view+json": {
       "model_id": "",
       "version_major": 2,
       "version_minor": 0
      },
      "text/plain": [
       "Generating validation split: 0 examples [00:00, ? examples/s]"
      ]
     },
     "metadata": {},
     "output_type": "display_data"
    },
    {
     "name": "stdout",
     "output_type": "stream",
     "text": [
      "Dataset mednli downloaded and prepared to C:/Users/wowns/.cache/huggingface/datasets/bigbio___mednli/mednli_source-data_dir=..%2Fdata%2F/1.0.0/f18e31046c4bf68bbdc505fbf3dab924a4ea60082a7f41346e3a84b54f453535. Subsequent calls will reuse this data.\n"
     ]
    },
    {
     "data": {
      "application/vnd.jupyter.widget-view+json": {
       "model_id": "b4f0a4236e294d10a2a79da6c408f6b1",
       "version_major": 2,
       "version_minor": 0
      },
      "text/plain": [
       "  0%|          | 0/3 [00:00<?, ?it/s]"
      ]
     },
     "metadata": {},
     "output_type": "display_data"
    },
    {
     "data": {
      "text/plain": [
       "DatasetDict({\n",
       "    train: Dataset({\n",
       "        features: ['pairID', 'gold_label', 'sentence1', 'sentence2', 'sentence1_parse', 'sentence2_parse', 'sentence1_binary_parse', 'sentence2_binary_parse'],\n",
       "        num_rows: 11232\n",
       "    })\n",
       "    test: Dataset({\n",
       "        features: ['pairID', 'gold_label', 'sentence1', 'sentence2', 'sentence1_parse', 'sentence2_parse', 'sentence1_binary_parse', 'sentence2_binary_parse'],\n",
       "        num_rows: 1422\n",
       "    })\n",
       "    validation: Dataset({\n",
       "        features: ['pairID', 'gold_label', 'sentence1', 'sentence2', 'sentence1_parse', 'sentence2_parse', 'sentence1_binary_parse', 'sentence2_binary_parse'],\n",
       "        num_rows: 1395\n",
       "    })\n",
       "})"
      ]
     },
     "execution_count": 18,
     "metadata": {},
     "output_type": "execute_result"
    }
   ],
   "source": [
    "PATH_DATA = '../data/'\n",
    "dataset = datasets.load_dataset(\n",
    "    'bigbio/mednli', \n",
    "    'mednli_source',\n",
    "    data_dir=PATH_DATA\n",
    ")\n",
    "\n",
    "dataset"
   ]
  },
  {
   "cell_type": "code",
   "execution_count": 10,
   "id": "fbb17c54-f3fe-4744-b24b-6a7e154329fe",
   "metadata": {},
   "outputs": [
    {
     "name": "stdout",
     "output_type": "stream",
     "text": [
      "State of the art models using deep neural networks have become very good in learning an accurate\n",
      "mapping from inputs to outputs. However, they still lack generalization capabilities in conditions\n",
      "that differ from the ones encountered during training. This is even more challenging in specialized,\n",
      "and knowledge intensive domains, where training data is limited. To address this gap, we introduce\n",
      "MedNLI - a dataset annotated by doctors, performing a natural language inference task (NLI),\n",
      "grounded in the medical history of patients. As the source of premise sentences, we used the\n",
      "MIMIC-III. More specifically, to minimize the risks to patient privacy, we worked with clinical\n",
      "notes corresponding to the deceased patients. The clinicians in our team suggested the Past Medical\n",
      "History to be the most informative section of a clinical note, from which useful inferences can be\n",
      "drawn about the patient.\n",
      "\n"
     ]
    }
   ],
   "source": [
    "datasetBuilder = datasets.load_dataset_builder('bigbio/mednli')\n",
    "\n",
    "print(datasetBuilder.info.description)"
   ]
  },
  {
   "cell_type": "code",
   "execution_count": 21,
   "id": "c7d62435-1216-4dd0-a605-01f17039fd81",
   "metadata": {},
   "outputs": [
    {
     "data": {
      "text/html": [
       "<div>\n",
       "<style scoped>\n",
       "    .dataframe tbody tr th:only-of-type {\n",
       "        vertical-align: middle;\n",
       "    }\n",
       "\n",
       "    .dataframe tbody tr th {\n",
       "        vertical-align: top;\n",
       "    }\n",
       "\n",
       "    .dataframe thead th {\n",
       "        text-align: right;\n",
       "    }\n",
       "</style>\n",
       "<table border=\"1\" class=\"dataframe\">\n",
       "  <thead>\n",
       "    <tr style=\"text-align: right;\">\n",
       "      <th></th>\n",
       "      <th>pairID</th>\n",
       "      <th>gold_label</th>\n",
       "      <th>sentence1</th>\n",
       "      <th>sentence2</th>\n",
       "      <th>sentence1_parse</th>\n",
       "      <th>sentence2_parse</th>\n",
       "      <th>sentence1_binary_parse</th>\n",
       "      <th>sentence2_binary_parse</th>\n",
       "    </tr>\n",
       "  </thead>\n",
       "  <tbody>\n",
       "    <tr>\n",
       "      <th>3252</th>\n",
       "      <td>24084994-66c7-11e7-9b32-f45c89b91419</td>\n",
       "      <td>entailment</td>\n",
       "      <td>She was intubated and given Dopamine for hypot...</td>\n",
       "      <td>the patient is hypotensive</td>\n",
       "      <td>(ROOT (S (NP (PRP She)) (VP (VP (VBD was) (VP ...</td>\n",
       "      <td>(ROOT (S (NP (DT the) (NN patient)) (VP (VBZ i...</td>\n",
       "      <td>( She ( ( ( ( was intubated ) and ) ( given ( ...</td>\n",
       "      <td>( ( the patient ) ( is hypotensive ) )</td>\n",
       "    </tr>\n",
       "    <tr>\n",
       "      <th>4065</th>\n",
       "      <td>240ead24-66c7-11e7-86b0-f45c89b91419</td>\n",
       "      <td>entailment</td>\n",
       "      <td>She reports her history of type 1 diabetes mel...</td>\n",
       "      <td>She has a history of hyperglycemia</td>\n",
       "      <td>(ROOT (S (NP (PRP She)) (VP (VBZ reports) (NP ...</td>\n",
       "      <td>(ROOT (S (NP (PRP She)) (VP (VBZ has) (NP (NP ...</td>\n",
       "      <td>( She ( ( reports ( ( ( her history ) ( of ( t...</td>\n",
       "      <td>( She ( has ( ( a history ) ( of hyperglycemia...</td>\n",
       "    </tr>\n",
       "    <tr>\n",
       "      <th>5690</th>\n",
       "      <td>241b1076-66c7-11e7-b2de-f45c89b91419</td>\n",
       "      <td>neutral</td>\n",
       "      <td>She appeared comfortable but unable to wean th...</td>\n",
       "      <td>The patient has normal lung function.</td>\n",
       "      <td>(ROOT (S (NP (PRP She)) (VP (VBD appeared) (AD...</td>\n",
       "      <td>(ROOT (S (NP (DT The) (NN patient)) (VP (VBZ h...</td>\n",
       "      <td>( She ( ( appeared ( ( comfortable but ) ( una...</td>\n",
       "      <td>( ( The patient ) ( ( has ( normal ( lung func...</td>\n",
       "    </tr>\n",
       "    <tr>\n",
       "      <th>9054</th>\n",
       "      <td>24366bd2-66c7-11e7-a277-f45c89b91419</td>\n",
       "      <td>entailment</td>\n",
       "      <td>History of a seizure disorder; and has not had...</td>\n",
       "      <td>patient has a history of seizures</td>\n",
       "      <td>(ROOT (NP (NP (NP (NP (NN History)) (PP (IN of...</td>\n",
       "      <td>(ROOT (S (NP (NN patient)) (VP (VBZ has) (NP (...</td>\n",
       "      <td>( ( ( ( ( History ( of ( a ( seizure disorder ...</td>\n",
       "      <td>( patient ( has ( ( a history ) ( of seizures ...</td>\n",
       "    </tr>\n",
       "    <tr>\n",
       "      <th>1576</th>\n",
       "      <td>23fa41ac-66c7-11e7-9055-f45c89b91419</td>\n",
       "      <td>contradiction</td>\n",
       "      <td>Also another recent hospital admit is she was ...</td>\n",
       "      <td>Patient has not vomited blood</td>\n",
       "      <td>(ROOT (S (ADVP (RB Also)) (NP (DT another) (JJ...</td>\n",
       "      <td>(ROOT (S (NP (NN Patient)) (VP (VBZ has) (RB n...</td>\n",
       "      <td>( Also ( ( another ( recent hospital ) ) ( ( a...</td>\n",
       "      <td>( Patient ( ( has not ) ( vomited blood ) ) )</td>\n",
       "    </tr>\n",
       "  </tbody>\n",
       "</table>\n",
       "</div>"
      ],
      "text/plain": [
       "                                    pairID     gold_label  \\\n",
       "3252  24084994-66c7-11e7-9b32-f45c89b91419     entailment   \n",
       "4065  240ead24-66c7-11e7-86b0-f45c89b91419     entailment   \n",
       "5690  241b1076-66c7-11e7-b2de-f45c89b91419        neutral   \n",
       "9054  24366bd2-66c7-11e7-a277-f45c89b91419     entailment   \n",
       "1576  23fa41ac-66c7-11e7-9055-f45c89b91419  contradiction   \n",
       "\n",
       "                                              sentence1  \\\n",
       "3252  She was intubated and given Dopamine for hypot...   \n",
       "4065  She reports her history of type 1 diabetes mel...   \n",
       "5690  She appeared comfortable but unable to wean th...   \n",
       "9054  History of a seizure disorder; and has not had...   \n",
       "1576  Also another recent hospital admit is she was ...   \n",
       "\n",
       "                                    sentence2  \\\n",
       "3252               the patient is hypotensive   \n",
       "4065       She has a history of hyperglycemia   \n",
       "5690   The patient has normal lung function.    \n",
       "9054        patient has a history of seizures   \n",
       "1576            Patient has not vomited blood   \n",
       "\n",
       "                                        sentence1_parse  \\\n",
       "3252  (ROOT (S (NP (PRP She)) (VP (VP (VBD was) (VP ...   \n",
       "4065  (ROOT (S (NP (PRP She)) (VP (VBZ reports) (NP ...   \n",
       "5690  (ROOT (S (NP (PRP She)) (VP (VBD appeared) (AD...   \n",
       "9054  (ROOT (NP (NP (NP (NP (NN History)) (PP (IN of...   \n",
       "1576  (ROOT (S (ADVP (RB Also)) (NP (DT another) (JJ...   \n",
       "\n",
       "                                        sentence2_parse  \\\n",
       "3252  (ROOT (S (NP (DT the) (NN patient)) (VP (VBZ i...   \n",
       "4065  (ROOT (S (NP (PRP She)) (VP (VBZ has) (NP (NP ...   \n",
       "5690  (ROOT (S (NP (DT The) (NN patient)) (VP (VBZ h...   \n",
       "9054  (ROOT (S (NP (NN patient)) (VP (VBZ has) (NP (...   \n",
       "1576  (ROOT (S (NP (NN Patient)) (VP (VBZ has) (RB n...   \n",
       "\n",
       "                                 sentence1_binary_parse  \\\n",
       "3252  ( She ( ( ( ( was intubated ) and ) ( given ( ...   \n",
       "4065  ( She ( ( reports ( ( ( her history ) ( of ( t...   \n",
       "5690  ( She ( ( appeared ( ( comfortable but ) ( una...   \n",
       "9054  ( ( ( ( ( History ( of ( a ( seizure disorder ...   \n",
       "1576  ( Also ( ( another ( recent hospital ) ) ( ( a...   \n",
       "\n",
       "                                 sentence2_binary_parse  \n",
       "3252             ( ( the patient ) ( is hypotensive ) )  \n",
       "4065  ( She ( has ( ( a history ) ( of hyperglycemia...  \n",
       "5690  ( ( The patient ) ( ( has ( normal ( lung func...  \n",
       "9054  ( patient ( has ( ( a history ) ( of seizures ...  \n",
       "1576      ( Patient ( ( has not ) ( vomited blood ) ) )  "
      ]
     },
     "execution_count": 21,
     "metadata": {},
     "output_type": "execute_result"
    }
   ],
   "source": [
    "df = dataset['train'].to_pandas()\n",
    "\n",
    "df.sample(5)"
   ]
  },
  {
   "cell_type": "code",
   "execution_count": null,
   "id": "83a1fb07-f820-4feb-a394-caee944f3dfe",
   "metadata": {},
   "outputs": [],
   "source": []
  }
 ],
 "metadata": {
  "kernelspec": {
   "display_name": "nlp",
   "language": "python",
   "name": "nlp"
  },
  "language_info": {
   "codemirror_mode": {
    "name": "ipython",
    "version": 3
   },
   "file_extension": ".py",
   "mimetype": "text/x-python",
   "name": "python",
   "nbconvert_exporter": "python",
   "pygments_lexer": "ipython3",
   "version": "3.10.9"
  }
 },
 "nbformat": 4,
 "nbformat_minor": 5
}
